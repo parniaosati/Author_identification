{
 "cells": [
  {
   "cell_type": "code",
   "execution_count": 1,
   "metadata": {},
   "outputs": [],
   "source": [
    "import os\n",
    "import numpy as np\n",
    "import pandas as pd\n",
    "import matplotlib.pyplot as plt\n",
    "import seaborn as sns\n",
    "import re"
   ]
  },
  {
   "cell_type": "code",
   "execution_count": 23,
   "metadata": {},
   "outputs": [
    {
     "data": {
      "text/html": [
       "<div>\n",
       "<style scoped>\n",
       "    .dataframe tbody tr th:only-of-type {\n",
       "        vertical-align: middle;\n",
       "    }\n",
       "\n",
       "    .dataframe tbody tr th {\n",
       "        vertical-align: top;\n",
       "    }\n",
       "\n",
       "    .dataframe thead th {\n",
       "        text-align: right;\n",
       "    }\n",
       "</style>\n",
       "<table border=\"1\" class=\"dataframe\">\n",
       "  <thead>\n",
       "    <tr style=\"text-align: right;\">\n",
       "      <th></th>\n",
       "      <th>category</th>\n",
       "      <th>lead</th>\n",
       "      <th>text</th>\n",
       "      <th>author</th>\n",
       "      <th>title</th>\n",
       "    </tr>\n",
       "  </thead>\n",
       "  <tbody>\n",
       "    <tr>\n",
       "      <th>0</th>\n",
       "      <td>نمایشگاه خودرو ژنو</td>\n",
       "      <td>مدل کوپه از سری GT، اولین خودروی اختصاصی با تو...</td>\n",
       "      <td>بعد از چند ماه انتظار و تماشای تصاویر جاسوسی ا...</td>\n",
       "      <td>A</td>\n",
       "      <td>مرسدس بنز AMG GT نسخه‌ی سدان معرفی شد</td>\n",
       "    </tr>\n",
       "    <tr>\n",
       "      <th>1</th>\n",
       "      <td>نمایشگاه خودرو ژنو</td>\n",
       "      <td>خودروی مفهومی بی‌ام‌و M8 گرن‌ کوپه در نمایشگاه...</td>\n",
       "      <td>خودروی مفهومی بی‌ام‌و M8 گرن‌ کوپه معنای حروف ...</td>\n",
       "      <td>B</td>\n",
       "      <td>خودروی مفهومی بی‌ ام‌ و M8 گرن‌کوپه معرفی شد</td>\n",
       "    </tr>\n",
       "    <tr>\n",
       "      <th>2</th>\n",
       "      <td>نمایشگاه خودرو ژنو</td>\n",
       "      <td>برابوس خود را برای نمایش دو مدل سدان و کوپه از...</td>\n",
       "      <td>برابوس (Brabus) یکی از بزرگ‌ترین شرکت‌های تیون...</td>\n",
       "      <td>B</td>\n",
       "      <td>سدان و کوپه مرسدس AMG S63 با تیونینگ برابوس مع...</td>\n",
       "    </tr>\n",
       "    <tr>\n",
       "      <th>3</th>\n",
       "      <td>نمایشگاه خودرو ژنو</td>\n",
       "      <td>در آستانه نمایشگاه خودروی ژنو ۲۰۱۸، استون مارت...</td>\n",
       "      <td>برند لاگوندا (Lagonda) هنوز زنده است و استون م...</td>\n",
       "      <td>B</td>\n",
       "      <td>خودروی مفهومی الکتریکی استون مارتین لاگوندا وی...</td>\n",
       "    </tr>\n",
       "    <tr>\n",
       "      <th>4</th>\n",
       "      <td>نمایشگاه خودرو ژنو</td>\n",
       "      <td>نسخه هیبریدی خودروی بنتلی بنتایگا مدل ۲۰۱۹ با ...</td>\n",
       "      <td>به نظر می‌رسد که بنتلی، ترکیب رانندگی مدرن و ت...</td>\n",
       "      <td>B</td>\n",
       "      <td>بنتلی بنتایگا پلاگین هیبریدی مدل 2019 معرفی شد</td>\n",
       "    </tr>\n",
       "  </tbody>\n",
       "</table>\n",
       "</div>"
      ],
      "text/plain": [
       "             category                                               lead  \\\n",
       "0  نمایشگاه خودرو ژنو  مدل کوپه از سری GT، اولین خودروی اختصاصی با تو...   \n",
       "1  نمایشگاه خودرو ژنو  خودروی مفهومی بی‌ام‌و M8 گرن‌ کوپه در نمایشگاه...   \n",
       "2  نمایشگاه خودرو ژنو  برابوس خود را برای نمایش دو مدل سدان و کوپه از...   \n",
       "3  نمایشگاه خودرو ژنو  در آستانه نمایشگاه خودروی ژنو ۲۰۱۸، استون مارت...   \n",
       "4  نمایشگاه خودرو ژنو  نسخه هیبریدی خودروی بنتلی بنتایگا مدل ۲۰۱۹ با ...   \n",
       "\n",
       "                                                text author  \\\n",
       "0  بعد از چند ماه انتظار و تماشای تصاویر جاسوسی ا...      A   \n",
       "1  خودروی مفهومی بی‌ام‌و M8 گرن‌ کوپه معنای حروف ...      B   \n",
       "2  برابوس (Brabus) یکی از بزرگ‌ترین شرکت‌های تیون...      B   \n",
       "3  برند لاگوندا (Lagonda) هنوز زنده است و استون م...      B   \n",
       "4  به نظر می‌رسد که بنتلی، ترکیب رانندگی مدرن و ت...      B   \n",
       "\n",
       "                                               title  \n",
       "0              مرسدس بنز AMG GT نسخه‌ی سدان معرفی شد  \n",
       "1       خودروی مفهومی بی‌ ام‌ و M8 گرن‌کوپه معرفی شد  \n",
       "2  سدان و کوپه مرسدس AMG S63 با تیونینگ برابوس مع...  \n",
       "3  خودروی مفهومی الکتریکی استون مارتین لاگوندا وی...  \n",
       "4     بنتلی بنتایگا پلاگین هیبریدی مدل 2019 معرفی شد  "
      ]
     },
     "execution_count": 23,
     "metadata": {},
     "output_type": "execute_result"
    }
   ],
   "source": [
    "li = []\n",
    "li.append(pd.read_csv(r\"./articles1.csv\"))\n",
    "li.append(pd.read_csv(r\"./articles2.csv\"))\n",
    "li.append(pd.read_csv(r\"./articles3.csv\"))\n",
    "\n",
    "df = pd.concat(li)\n",
    "df.head()"
   ]
  },
  {
   "cell_type": "code",
   "execution_count": 24,
   "metadata": {},
   "outputs": [
    {
     "data": {
      "text/plain": [
       "موبایل                  8535\n",
       "فناوری                  8476\n",
       "اخبار خودرو             2970\n",
       "نرم افزار و اپلیکیشن    2632\n",
       "فناوری ایران            2299\n",
       "پزشکی و سلامت           1267\n",
       "سیستم عامل              1217\n",
       "Name: category, dtype: int64"
      ]
     },
     "execution_count": 24,
     "metadata": {},
     "output_type": "execute_result"
    }
   ],
   "source": [
    "df.category.value_counts().head(7)"
   ]
  },
  {
   "cell_type": "code",
   "execution_count": 25,
   "metadata": {},
   "outputs": [
    {
     "data": {
      "image/png": "[encoded data removed]",
      "text/plain": [
       "<Figure size 864x432 with 1 Axes>"
      ]
     },
     "metadata": {
      "needs_background": "light"
     },
     "output_type": "display_data"
    }
   ],
   "source": [
    "plt.figure(figsize=(12,6))\n",
    "sns.countplot(df.author, palette=\"dark\")\n",
    "plt.show()"
   ]
  },
  {
   "cell_type": "code",
   "execution_count": 26,
   "metadata": {},
   "outputs": [],
   "source": [
    "df[\"lead_len\"] = df.lead.apply(lambda x: len(x.split()))\n",
    "df[\"title_len\"] = df.title.apply(lambda x: len(x.split()))\n",
    "df[\"text_len\"] = df.text.apply(lambda x: len(x.split()))"
   ]
  },
  {
   "cell_type": "code",
   "execution_count": 27,
   "metadata": {},
   "outputs": [
    {
     "data": {
      "image/png": "[encoded data removed]",
      "text/plain": [
       "<Figure size 864x432 with 1 Axes>"
      ]
     },
     "metadata": {
      "needs_background": "light"
     },
     "output_type": "display_data"
    }
   ],
   "source": [
    "plt.figure(figsize=(12,6))\n",
    "sns.distplot(df[\"lead_len\"], color=\"k\")\n",
    "plt.show()"
   ]
  },
  {
   "cell_type": "code",
   "execution_count": 28,
   "metadata": {},
   "outputs": [
    {
     "data": {
      "image/png": "[encoded data removed]",
      "text/plain": [
       "<Figure size 864x432 with 1 Axes>"
      ]
     },
     "metadata": {
      "needs_background": "light"
     },
     "output_type": "display_data"
    }
   ],
   "source": [
    "plt.figure(figsize=(12,6))\n",
    "sns.distplot(df[\"title_len\"], color=\"k\")\n",
    "plt.show()"
   ]
  },
  {
   "cell_type": "code",
   "execution_count": 29,
   "metadata": {},
   "outputs": [
    {
     "data": {
      "image/png": "[encoded data removed]",
      "text/plain": [
       "<Figure size 864x432 with 1 Axes>"
      ]
     },
     "metadata": {
      "needs_background": "light"
     },
     "output_type": "display_data"
    }
   ],
   "source": [
    "plt.figure(figsize=(12,6))\n",
    "sns.distplot(df[\"text_len\"], color=\"k\")\n",
    "plt.show()"
   ]
  },
  {
   "cell_type": "code",
   "execution_count": 30,
   "metadata": {},
   "outputs": [
    {
     "data": {
      "image/png": "[encoded data removed]",
      "text/plain": [
       "<Figure size 864x432 with 1 Axes>"
      ]
     },
     "metadata": {
      "needs_background": "light"
     },
     "output_type": "display_data"
    }
   ],
   "source": [
    "plt.figure(figsize=(12,6))\n",
    "plt.bar(df.groupby(\"author\").mean().index , df.groupby(\"author\").mean().title_len.values, color=\"gray\")\n",
    "plt.show()"
   ]
  },
  {
   "cell_type": "code",
   "execution_count": 31,
   "metadata": {},
   "outputs": [
    {
     "data": {
      "image/png": "[encoded data removed]",
      "text/plain": [
       "<Figure size 864x432 with 1 Axes>"
      ]
     },
     "metadata": {
      "needs_background": "light"
     },
     "output_type": "display_data"
    }
   ],
   "source": [
    "plt.figure(figsize=(12,6))\n",
    "plt.bar(df.groupby(\"author\").mean().index , df.groupby(\"author\").mean().lead_len.values, color=\"gray\")\n",
    "plt.show()"
   ]
  },
  {
   "cell_type": "code",
   "execution_count": 32,
   "metadata": {},
   "outputs": [
    {
     "data": {
      "image/png": "[encoded data removed]",
      "text/plain": [
       "<Figure size 864x432 with 1 Axes>"
      ]
     },
     "metadata": {
      "needs_background": "light"
     },
     "output_type": "display_data"
    }
   ],
   "source": [
    "plt.figure(figsize=(12,6))\n",
    "plt.bar(df.groupby(\"author\").mean().index , df.groupby(\"author\").mean().text_len.values, color=\"gray\")\n",
    "plt.show()"
   ]
  },
  {
   "cell_type": "code",
   "execution_count": null,
   "metadata": {},
   "outputs": [],
   "source": [
    "df[\"va_count\"] = df.text.apply(lambda x: len(re.findall(\" و \" , x)))\n",
    "df[\"be_count\"] = df.text.apply(lambda x: len(re.findall(\" به \" , x)))\n",
    "df[\"dar_count\"] = df.text.apply(lambda x: len(re.findall(\" در \" , x)))\n",
    "df[\"az_count\"] = df.text.apply(lambda x: len(re.findall(\" از \" , x)))\n",
    "df[\"har_count\"] = df.text.apply(lambda x: len(re.findall(\" هر \" , x)))\n",
    "df[\"ba_count\"] = df.text.apply(lambda x: len(re.findall(\" با \" , x)))\n",
    "df[\"ra_count\"] = df.text.apply(lambda x: len(re.findall(\" را \" , x)))\n",
    "df[\"ke_count\"] = df.text.apply(lambda x: len(re.findall(\" که \" , x)))\n",
    "df[\"ta_count\"] = df.text.apply(lambda x: len(re.findall(\" تا \" , x)))"
   ]
  },
  {
   "cell_type": "code",
   "execution_count": null,
   "metadata": {},
   "outputs": [],
   "source": [
    "df[\"va_count\"] = df[\"va_count\"] / df.text_len\n",
    "df[\"be_count\"] = df[\"be_count\"] / df.text_len\n",
    "df[\"dar_count\"] = df[\"dar_count\"] / df.text_len\n",
    "df[\"az_count\"] = df[\"az_count\"] / df.text_len\n",
    "df[\"har_count\"] = df[\"har_count\"] / df.text_len\n",
    "df[\"ba_count\"] = df[\"ba_count\"] / df.text_len\n",
    "df[\"ra_count\"] = df[\"ra_count\"] / df.text_len\n",
    "df[\"ke_count\"] = df[\"ke_count\"] / df.text_len\n",
    "df[\"ta_count\"] = df[\"ta_count\"] / df.text_len"
   ]
  },
  {
   "cell_type": "code",
   "execution_count": 15,
   "metadata": {},
   "outputs": [
    {
     "data": {
      "text/html": [
       "<div>\n",
       "<style scoped>\n",
       "    .dataframe tbody tr th:only-of-type {\n",
       "        vertical-align: middle;\n",
       "    }\n",
       "\n",
       "    .dataframe tbody tr th {\n",
       "        vertical-align: top;\n",
       "    }\n",
       "\n",
       "    .dataframe thead th {\n",
       "        text-align: right;\n",
       "    }\n",
       "</style>\n",
       "<table border=\"1\" class=\"dataframe\">\n",
       "  <thead>\n",
       "    <tr style=\"text-align: right;\">\n",
       "      <th></th>\n",
       "      <th>va_count</th>\n",
       "      <th>be_count</th>\n",
       "      <th>dar_count</th>\n",
       "      <th>az_count</th>\n",
       "      <th>har_count</th>\n",
       "      <th>ba_count</th>\n",
       "      <th>ra_count</th>\n",
       "      <th>ke_count</th>\n",
       "      <th>ta_count</th>\n",
       "    </tr>\n",
       "    <tr>\n",
       "      <th>author</th>\n",
       "      <th></th>\n",
       "      <th></th>\n",
       "      <th></th>\n",
       "      <th></th>\n",
       "      <th></th>\n",
       "      <th></th>\n",
       "      <th></th>\n",
       "      <th></th>\n",
       "      <th></th>\n",
       "    </tr>\n",
       "  </thead>\n",
       "  <tbody>\n",
       "    <tr>\n",
       "      <th>A</th>\n",
       "      <td>0.039407</td>\n",
       "      <td>0.021736</td>\n",
       "      <td>0.030929</td>\n",
       "      <td>0.022274</td>\n",
       "      <td>0.001098</td>\n",
       "      <td>0.019794</td>\n",
       "      <td>0.009306</td>\n",
       "      <td>0.013215</td>\n",
       "      <td>0.006381</td>\n",
       "    </tr>\n",
       "    <tr>\n",
       "      <th>B</th>\n",
       "      <td>0.032398</td>\n",
       "      <td>0.024155</td>\n",
       "      <td>0.030711</td>\n",
       "      <td>0.023023</td>\n",
       "      <td>0.001506</td>\n",
       "      <td>0.014913</td>\n",
       "      <td>0.013508</td>\n",
       "      <td>0.017489</td>\n",
       "      <td>0.004463</td>\n",
       "    </tr>\n",
       "    <tr>\n",
       "      <th>C</th>\n",
       "      <td>0.031860</td>\n",
       "      <td>0.023795</td>\n",
       "      <td>0.034729</td>\n",
       "      <td>0.026352</td>\n",
       "      <td>0.001589</td>\n",
       "      <td>0.014482</td>\n",
       "      <td>0.021318</td>\n",
       "      <td>0.019059</td>\n",
       "      <td>0.004136</td>\n",
       "    </tr>\n",
       "    <tr>\n",
       "      <th>D</th>\n",
       "      <td>0.022372</td>\n",
       "      <td>0.024635</td>\n",
       "      <td>0.039582</td>\n",
       "      <td>0.034199</td>\n",
       "      <td>0.001430</td>\n",
       "      <td>0.016996</td>\n",
       "      <td>0.021140</td>\n",
       "      <td>0.021850</td>\n",
       "      <td>0.004809</td>\n",
       "    </tr>\n",
       "    <tr>\n",
       "      <th>E</th>\n",
       "      <td>0.042355</td>\n",
       "      <td>0.021811</td>\n",
       "      <td>0.032454</td>\n",
       "      <td>0.022675</td>\n",
       "      <td>0.001317</td>\n",
       "      <td>0.013278</td>\n",
       "      <td>0.013551</td>\n",
       "      <td>0.014410</td>\n",
       "      <td>0.004639</td>\n",
       "    </tr>\n",
       "  </tbody>\n",
       "</table>\n",
       "</div>"
      ],
      "text/plain": [
       "        va_count  be_count  dar_count  az_count  har_count  ba_count  \\\n",
       "author                                                                 \n",
       "A       0.039407  0.021736   0.030929  0.022274   0.001098  0.019794   \n",
       "B       0.032398  0.024155   0.030711  0.023023   0.001506  0.014913   \n",
       "C       0.031860  0.023795   0.034729  0.026352   0.001589  0.014482   \n",
       "D       0.022372  0.024635   0.039582  0.034199   0.001430  0.016996   \n",
       "E       0.042355  0.021811   0.032454  0.022675   0.001317  0.013278   \n",
       "\n",
       "        ra_count  ke_count  ta_count  \n",
       "author                                \n",
       "A       0.009306  0.013215  0.006381  \n",
       "B       0.013508  0.017489  0.004463  \n",
       "C       0.021318  0.019059  0.004136  \n",
       "D       0.021140  0.021850  0.004809  \n",
       "E       0.013551  0.014410  0.004639  "
      ]
     },
     "execution_count": 15,
     "metadata": {},
     "output_type": "execute_result"
    }
   ],
   "source": [
    "df.groupby(\"author\").mean()[[\"va_count\", \"be_count\", \"dar_count\", \"az_count\", \"har_count\",\n",
    "                             \"ba_count\", \"ra_count\", \"ke_count\", \"ta_count\"]].head(5)"
   ]
  },
  {
   "cell_type": "code",
   "execution_count": 16,
   "metadata": {},
   "outputs": [
    {
     "data": {
      "image/png": "[encoded data removed]",
      "text/plain": [
       "<Figure size 864x432 with 1 Axes>"
      ]
     },
     "metadata": {
      "needs_background": "light"
     },
     "output_type": "display_data"
    }
   ],
   "source": [
    "plt.figure(figsize=(12,6))\n",
    "plt.bar(df.groupby(\"author\").mean().index , df.groupby(\"author\").mean().va_count.values, color=\"gray\")\n",
    "plt.show()"
   ]
  },
  {
   "cell_type": "code",
   "execution_count": 17,
   "metadata": {},
   "outputs": [],
   "source": [
    "df[\"samsung_count\"] = df.text.apply(lambda x: len(re.findall(\" ساسمونگ \" , x)))\n",
    "df[\"huawei_count\"] = df.text.apply(lambda x: len(re.findall(\" هواوی \" , x)))\n",
    "df[\"apple_count\"] = df.text.apply(lambda x: len(re.findall(\" اپل \" , x)))\n",
    "df[\"microsoft_count\"] = df.text.apply(lambda x: len(re.findall(\" مایکروسافت \" , x)))\n",
    "df[\"mobile_count\"] = df.text.apply(lambda x: len(re.findall(\" موبایل \" , x)))\n",
    "df[\"labtop_count\"] = df.text.apply(lambda x: len(re.findall(\" لپ تاپ \" , x)))\n",
    "df[\"physics_count\"] = df.text.apply(lambda x: len(re.findall(\" فیزیک \" , x)))\n",
    "df[\"asus_count\"] = df.text.apply(lambda x: len(re.findall(\" ایسوس \" , x)))\n",
    "df[\"machine_count\"] = df.text.apply(lambda x: len(re.findall(\" خودرو \" , x)))"
   ]
  },
  {
   "cell_type": "code",
   "execution_count": 18,
   "metadata": {},
   "outputs": [],
   "source": [
    "df[\"samsung_count\"] = df[\"samsung_count\"] / df.text_len\n",
    "df[\"huawei_count\"] = df[\"huawei_count\"] / df.text_len\n",
    "df[\"apple_count\"] = df[\"apple_count\"] / df.text_len\n",
    "df[\"microsoft_count\"] = df[\"microsoft_count\"] / df.text_len\n",
    "df[\"mobile_count\"] = df[\"mobile_count\"] / df.text_len\n",
    "df[\"labtop_count\"] = df[\"labtop_count\"] / df.text_len\n",
    "df[\"physics_count\"] = df[\"physics_count\"] / df.text_len\n",
    "df[\"asus_count\"] = df[\"asus_count\"] / df.text_len\n",
    "df[\"machine_count\"] = df[\"machine_count\"] / df.text_len"
   ]
  },
  {
   "cell_type": "code",
   "execution_count": 19,
   "metadata": {},
   "outputs": [
    {
     "data": {
      "text/html": [
       "<div>\n",
       "<style scoped>\n",
       "    .dataframe tbody tr th:only-of-type {\n",
       "        vertical-align: middle;\n",
       "    }\n",
       "\n",
       "    .dataframe tbody tr th {\n",
       "        vertical-align: top;\n",
       "    }\n",
       "\n",
       "    .dataframe thead th {\n",
       "        text-align: right;\n",
       "    }\n",
       "</style>\n",
       "<table border=\"1\" class=\"dataframe\">\n",
       "  <thead>\n",
       "    <tr style=\"text-align: right;\">\n",
       "      <th></th>\n",
       "      <th>samsung_count</th>\n",
       "      <th>huawei_count</th>\n",
       "      <th>apple_count</th>\n",
       "      <th>microsoft_count</th>\n",
       "      <th>mobile_count</th>\n",
       "      <th>labtop_count</th>\n",
       "      <th>physics_count</th>\n",
       "      <th>asus_count</th>\n",
       "      <th>machine_count</th>\n",
       "    </tr>\n",
       "    <tr>\n",
       "      <th>author</th>\n",
       "      <th></th>\n",
       "      <th></th>\n",
       "      <th></th>\n",
       "      <th></th>\n",
       "      <th></th>\n",
       "      <th></th>\n",
       "      <th></th>\n",
       "      <th></th>\n",
       "      <th></th>\n",
       "    </tr>\n",
       "  </thead>\n",
       "  <tbody>\n",
       "    <tr>\n",
       "      <th>A</th>\n",
       "      <td>0.000000e+00</td>\n",
       "      <td>0.000000e+00</td>\n",
       "      <td>0.000052</td>\n",
       "      <td>0.000005</td>\n",
       "      <td>0.000011</td>\n",
       "      <td>0.000000e+00</td>\n",
       "      <td>0.000000</td>\n",
       "      <td>0.000000e+00</td>\n",
       "      <td>0.006973</td>\n",
       "    </tr>\n",
       "    <tr>\n",
       "      <th>B</th>\n",
       "      <td>0.000000e+00</td>\n",
       "      <td>2.013145e-07</td>\n",
       "      <td>0.000096</td>\n",
       "      <td>0.000013</td>\n",
       "      <td>0.000020</td>\n",
       "      <td>6.437194e-07</td>\n",
       "      <td>0.000004</td>\n",
       "      <td>0.000000e+00</td>\n",
       "      <td>0.006186</td>\n",
       "    </tr>\n",
       "    <tr>\n",
       "      <th>C</th>\n",
       "      <td>2.507965e-07</td>\n",
       "      <td>5.809246e-04</td>\n",
       "      <td>0.001857</td>\n",
       "      <td>0.000996</td>\n",
       "      <td>0.000294</td>\n",
       "      <td>5.305588e-06</td>\n",
       "      <td>0.000020</td>\n",
       "      <td>9.814086e-05</td>\n",
       "      <td>0.000078</td>\n",
       "    </tr>\n",
       "    <tr>\n",
       "      <th>D</th>\n",
       "      <td>0.000000e+00</td>\n",
       "      <td>3.869269e-04</td>\n",
       "      <td>0.003370</td>\n",
       "      <td>0.001365</td>\n",
       "      <td>0.000703</td>\n",
       "      <td>6.296618e-06</td>\n",
       "      <td>0.000010</td>\n",
       "      <td>1.143974e-04</td>\n",
       "      <td>0.000503</td>\n",
       "    </tr>\n",
       "    <tr>\n",
       "      <th>E</th>\n",
       "      <td>0.000000e+00</td>\n",
       "      <td>4.161642e-05</td>\n",
       "      <td>0.000106</td>\n",
       "      <td>0.000003</td>\n",
       "      <td>0.000838</td>\n",
       "      <td>0.000000e+00</td>\n",
       "      <td>0.000021</td>\n",
       "      <td>6.986714e-07</td>\n",
       "      <td>0.000273</td>\n",
       "    </tr>\n",
       "  </tbody>\n",
       "</table>\n",
       "</div>"
      ],
      "text/plain": [
       "        samsung_count  huawei_count  apple_count  microsoft_count  \\\n",
       "author                                                              \n",
       "A        0.000000e+00  0.000000e+00     0.000052         0.000005   \n",
       "B        0.000000e+00  2.013145e-07     0.000096         0.000013   \n",
       "C        2.507965e-07  5.809246e-04     0.001857         0.000996   \n",
       "D        0.000000e+00  3.869269e-04     0.003370         0.001365   \n",
       "E        0.000000e+00  4.161642e-05     0.000106         0.000003   \n",
       "\n",
       "        mobile_count  labtop_count  physics_count    asus_count  machine_count  \n",
       "author                                                                          \n",
       "A           0.000011  0.000000e+00       0.000000  0.000000e+00       0.006973  \n",
       "B           0.000020  6.437194e-07       0.000004  0.000000e+00       0.006186  \n",
       "C           0.000294  5.305588e-06       0.000020  9.814086e-05       0.000078  \n",
       "D           0.000703  6.296618e-06       0.000010  1.143974e-04       0.000503  \n",
       "E           0.000838  0.000000e+00       0.000021  6.986714e-07       0.000273  "
      ]
     },
     "execution_count": 19,
     "metadata": {},
     "output_type": "execute_result"
    }
   ],
   "source": [
    "df.groupby(\"author\").mean()[[\"samsung_count\", \"huawei_count\", \"apple_count\", \"microsoft_count\", \"mobile_count\",\n",
    "                             \"labtop_count\", \"physics_count\", \"asus_count\", \"machine_count\"]].head(5)"
   ]
  },
  {
   "cell_type": "code",
   "execution_count": 20,
   "metadata": {},
   "outputs": [
    {
     "data": {
      "image/png": "[encoded data removed]",
      "text/plain": [
       "<Figure size 864x432 with 1 Axes>"
      ]
     },
     "metadata": {
      "needs_background": "light"
     },
     "output_type": "display_data"
    }
   ],
   "source": [
    "plt.figure(figsize=(12,6))\n",
    "plt.bar(df.groupby(\"author\").mean().index , df.groupby(\"author\").mean().apple_count.values, color=\"gray\")\n",
    "plt.show()"
   ]
  },
  {
   "cell_type": "code",
   "execution_count": 21,
   "metadata": {},
   "outputs": [
    {
     "data": {
      "image/png": "[encoded data removed]",
      "text/plain": [
       "<Figure size 864x432 with 1 Axes>"
      ]
     },
     "metadata": {
      "needs_background": "light"
     },
     "output_type": "display_data"
    }
   ],
   "source": [
    "plt.figure(figsize=(12,6))\n",
    "plt.bar(df.groupby(\"author\").mean().index , df.groupby(\"author\").mean().microsoft_count.values, color=\"gray\")\n",
    "plt.show()"
   ]
  },
  {
   "cell_type": "code",
   "execution_count": 22,
   "metadata": {},
   "outputs": [
    {
     "data": {
      "image/png": "[encoded data removed]",
      "text/plain": [
       "<Figure size 864x432 with 1 Axes>"
      ]
     },
     "metadata": {
      "needs_background": "light"
     },
     "output_type": "display_data"
    }
   ],
   "source": [
    "plt.figure(figsize=(12,6))\n",
    "plt.bar(df.groupby(\"author\").mean().index , df.groupby(\"author\").mean().machine_count.values, color=\"gray\")\n",
    "plt.show()"
   ]
  },
  {
   "cell_type": "code",
   "execution_count": null,
   "metadata": {},
   "outputs": [],
   "source": []
  }
 ],
 "metadata": {
  "kernelspec": {
   "display_name": "Python 3",
   "language": "python",
   "name": "python3"
  },
  "language_info": {
   "codemirror_mode": {
    "name": "ipython",
    "version": 3
   },
   "file_extension": ".py",
   "mimetype": "text/x-python",
   "name": "python",
   "nbconvert_exporter": "python",
   "pygments_lexer": "ipython3",
   "version": "3.7.3"
  }
 },
 "nbformat": 4,
 "nbformat_minor": 2
}
